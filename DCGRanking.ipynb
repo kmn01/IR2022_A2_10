{
  "nbformat": 4,
  "nbformat_minor": 0,
  "metadata": {
    "colab": {
      "name": "DCGRanking.ipynb",
      "provenance": []
    },
    "kernelspec": {
      "name": "python3",
      "display_name": "Python 3"
    },
    "language_info": {
      "name": "python"
    }
  },
  "cells": [
    {
      "cell_type": "markdown",
      "source": [
        "# DCG Ranking | nDCG | Precision-Recall Curve"
      ],
      "metadata": {
        "id": "1gpDsroGqMhb"
      }
    },
    {
      "cell_type": "markdown",
      "source": [
        "**Imports**"
      ],
      "metadata": {
        "id": "vjeq5E9hIZxw"
      }
    },
    {
      "cell_type": "code",
      "execution_count": 1,
      "metadata": {
        "id": "mfj759JibBlT"
      },
      "outputs": [],
      "source": [
        "import numpy as np\n",
        "import pandas as pd\n",
        "import math\n",
        "import matplotlib.pyplot as plt\n",
        "import nltk\n",
        "import json\n",
        "import string\n",
        "import re"
      ]
    },
    {
      "cell_type": "markdown",
      "source": [
        "**Load data**"
      ],
      "metadata": {
        "id": "zX1gQ__qbgvM"
      }
    },
    {
      "cell_type": "code",
      "source": [
        "from google.colab import drive\n",
        "drive.mount('/content/drive')"
      ],
      "metadata": {
        "colab": {
          "base_uri": "https://localhost:8080/"
        },
        "id": "bNBn0iaIbbWS",
        "outputId": "67389837-7f37-498a-bf8e-9c123e52d629"
      },
      "execution_count": 2,
      "outputs": [
        {
          "output_type": "stream",
          "name": "stdout",
          "text": [
            "Mounted at /content/drive\n"
          ]
        }
      ]
    },
    {
      "cell_type": "code",
      "source": [
        "data_file = open(\"/content/drive/MyDrive/IR_Assignments/MSLRDataset.txt\", \"r\")"
      ],
      "metadata": {
        "id": "5P1wPJ1ebePX"
      },
      "execution_count": 31,
      "outputs": []
    },
    {
      "cell_type": "markdown",
      "source": [
        "Read data from file"
      ],
      "metadata": {
        "id": "nab6sqR6IzIg"
      }
    },
    {
      "cell_type": "code",
      "source": [
        "with open(\"/content/drive/MyDrive/IR_Assignments/MSLRDataset.txt\") as f:\n",
        "    lines = f.readlines()"
      ],
      "metadata": {
        "id": "UhbXjx3bcSCw"
      },
      "execution_count": 32,
      "outputs": []
    },
    {
      "cell_type": "markdown",
      "source": [
        "**Preprocessing**"
      ],
      "metadata": {
        "id": "MSehLuT4IcfG"
      }
    },
    {
      "cell_type": "code",
      "source": [
        "def select_qid4(lines):\n",
        "    qid4 = []\n",
        "    for line in lines:\n",
        "        if line.split(' ')[1] == 'qid:4':\n",
        "            qid4.append(line)\n",
        "    return qid4\n",
        "qid4 = select_qid4(lines)"
      ],
      "metadata": {
        "id": "jZCDFotVeU8T"
      },
      "execution_count": 33,
      "outputs": []
    },
    {
      "cell_type": "code",
      "source": [
        "columns=['relevance_score']\n",
        "for i in range(1, 137, 1):\n",
        "    columns.append('feature_' + str(i))"
      ],
      "metadata": {
        "id": "N6X8Skg8fLWS"
      },
      "execution_count": 34,
      "outputs": []
    },
    {
      "cell_type": "code",
      "source": [
        "data_rows = []\n",
        "for entry in qid4:\n",
        "    row_elements = entry.split(' ')[:-1]\n",
        "    row = []\n",
        "    row.append(int(row_elements[0]))\n",
        "    for element in row_elements[2:]:\n",
        "        row.append(float(element.split(':')[1]))\n",
        "    data_rows.append(row)"
      ],
      "metadata": {
        "id": "FVfbd8tpE-bh"
      },
      "execution_count": 35,
      "outputs": []
    },
    {
      "cell_type": "code",
      "source": [
        "data = pd.DataFrame(data_rows, columns = columns)"
      ],
      "metadata": {
        "id": "NsBT569aH7RA"
      },
      "execution_count": 36,
      "outputs": []
    },
    {
      "cell_type": "markdown",
      "source": [
        "**Sort query-url pairs by max DCG**"
      ],
      "metadata": {
        "id": "xQdbjbA0KTAW"
      }
    },
    {
      "cell_type": "code",
      "source": [
        "data_sorted = data.sort_values(by=['relevance_score'], ascending=False)\n",
        "data_sorted"
      ],
      "metadata": {
        "colab": {
          "base_uri": "https://localhost:8080/",
          "height": 487
        },
        "id": "1luTY5laIOaA",
        "outputId": "6c27ef10-2dec-4724-9bb5-c3709a13230c"
      },
      "execution_count": 37,
      "outputs": [
        {
          "output_type": "execute_result",
          "data": {
            "text/plain": [
              "     relevance_score  feature_1  feature_2  feature_3  feature_4  feature_5  \\\n",
              "7                  3        3.0        0.0        2.0        1.0        3.0   \n",
              "76                 2        2.0        0.0        1.0        0.0        2.0   \n",
              "40                 2        3.0        2.0        2.0        0.0        3.0   \n",
              "36                 2        3.0        0.0        2.0        0.0        3.0   \n",
              "90                 2        3.0        0.0        3.0        3.0        3.0   \n",
              "..               ...        ...        ...        ...        ...        ...   \n",
              "44                 0        2.0        0.0        0.0        0.0        2.0   \n",
              "43                 0        2.0        0.0        0.0        0.0        2.0   \n",
              "42                 0        3.0        0.0        3.0        1.0        3.0   \n",
              "41                 0        3.0        1.0        3.0        2.0        3.0   \n",
              "102                0        3.0        0.0        2.0        0.0        3.0   \n",
              "\n",
              "     feature_6  feature_7  feature_8  feature_9  ...  feature_127  \\\n",
              "7     1.000000   0.000000   0.666667   0.333333  ...         32.0   \n",
              "76    0.666667   0.000000   0.333333   0.000000  ...         19.0   \n",
              "40    1.000000   0.666667   0.666667   0.000000  ...         33.0   \n",
              "36    1.000000   0.000000   0.666667   0.000000  ...         17.0   \n",
              "90    1.000000   0.000000   1.000000   1.000000  ...         67.0   \n",
              "..         ...        ...        ...        ...  ...          ...   \n",
              "44    0.666667   0.000000   0.000000   0.000000  ...         41.0   \n",
              "43    0.666667   0.000000   0.000000   0.000000  ...         38.0   \n",
              "42    1.000000   0.000000   1.000000   0.333333  ...         65.0   \n",
              "41    1.000000   0.333333   1.000000   0.666667  ...         65.0   \n",
              "102   1.000000   0.000000   0.666667   0.000000  ...         59.0   \n",
              "\n",
              "     feature_128  feature_129  feature_130  feature_131  feature_132  \\\n",
              "7          349.0          8.0        123.0        281.0         22.0   \n",
              "76           0.0          0.0       2417.0        721.0         14.0   \n",
              "40           8.0          3.0       1888.0       9338.0          3.0   \n",
              "36           0.0          2.0      12028.0      11379.0         26.0   \n",
              "90          27.0          0.0        814.0      13555.0        108.0   \n",
              "..           ...          ...          ...          ...          ...   \n",
              "44           8.0          0.0        868.0       9260.0        246.0   \n",
              "43           4.0          0.0        797.0       9260.0        237.0   \n",
              "42          83.0          5.0        144.0        262.0        157.0   \n",
              "41         195.0          8.0        124.0        206.0        103.0   \n",
              "102       1415.0         14.0       5334.0       6434.0          4.0   \n",
              "\n",
              "     feature_133  feature_134  feature_135  feature_136  \n",
              "7            6.0          0.0          0.0     0.000000  \n",
              "76         113.0          0.0         13.0    47.900000  \n",
              "40          11.0          0.0          0.0     0.000000  \n",
              "36          24.0          0.0         77.0    23.959522  \n",
              "90         113.0          0.0          0.0     0.000000  \n",
              "..           ...          ...          ...          ...  \n",
              "44          88.0          0.0          0.0     0.000000  \n",
              "43          80.0          0.0          0.0     0.000000  \n",
              "42         179.0          0.0          0.0     0.000000  \n",
              "41         121.0          0.0          0.0     0.000000  \n",
              "102         17.0          0.0          0.0     0.000000  \n",
              "\n",
              "[103 rows x 137 columns]"
            ],
            "text/html": [
              "\n",
              "  <div id=\"df-2e5362bc-01ee-4a24-9692-bbda3baf80c6\">\n",
              "    <div class=\"colab-df-container\">\n",
              "      <div>\n",
              "<style scoped>\n",
              "    .dataframe tbody tr th:only-of-type {\n",
              "        vertical-align: middle;\n",
              "    }\n",
              "\n",
              "    .dataframe tbody tr th {\n",
              "        vertical-align: top;\n",
              "    }\n",
              "\n",
              "    .dataframe thead th {\n",
              "        text-align: right;\n",
              "    }\n",
              "</style>\n",
              "<table border=\"1\" class=\"dataframe\">\n",
              "  <thead>\n",
              "    <tr style=\"text-align: right;\">\n",
              "      <th></th>\n",
              "      <th>relevance_score</th>\n",
              "      <th>feature_1</th>\n",
              "      <th>feature_2</th>\n",
              "      <th>feature_3</th>\n",
              "      <th>feature_4</th>\n",
              "      <th>feature_5</th>\n",
              "      <th>feature_6</th>\n",
              "      <th>feature_7</th>\n",
              "      <th>feature_8</th>\n",
              "      <th>feature_9</th>\n",
              "      <th>...</th>\n",
              "      <th>feature_127</th>\n",
              "      <th>feature_128</th>\n",
              "      <th>feature_129</th>\n",
              "      <th>feature_130</th>\n",
              "      <th>feature_131</th>\n",
              "      <th>feature_132</th>\n",
              "      <th>feature_133</th>\n",
              "      <th>feature_134</th>\n",
              "      <th>feature_135</th>\n",
              "      <th>feature_136</th>\n",
              "    </tr>\n",
              "  </thead>\n",
              "  <tbody>\n",
              "    <tr>\n",
              "      <th>7</th>\n",
              "      <td>3</td>\n",
              "      <td>3.0</td>\n",
              "      <td>0.0</td>\n",
              "      <td>2.0</td>\n",
              "      <td>1.0</td>\n",
              "      <td>3.0</td>\n",
              "      <td>1.000000</td>\n",
              "      <td>0.000000</td>\n",
              "      <td>0.666667</td>\n",
              "      <td>0.333333</td>\n",
              "      <td>...</td>\n",
              "      <td>32.0</td>\n",
              "      <td>349.0</td>\n",
              "      <td>8.0</td>\n",
              "      <td>123.0</td>\n",
              "      <td>281.0</td>\n",
              "      <td>22.0</td>\n",
              "      <td>6.0</td>\n",
              "      <td>0.0</td>\n",
              "      <td>0.0</td>\n",
              "      <td>0.000000</td>\n",
              "    </tr>\n",
              "    <tr>\n",
              "      <th>76</th>\n",
              "      <td>2</td>\n",
              "      <td>2.0</td>\n",
              "      <td>0.0</td>\n",
              "      <td>1.0</td>\n",
              "      <td>0.0</td>\n",
              "      <td>2.0</td>\n",
              "      <td>0.666667</td>\n",
              "      <td>0.000000</td>\n",
              "      <td>0.333333</td>\n",
              "      <td>0.000000</td>\n",
              "      <td>...</td>\n",
              "      <td>19.0</td>\n",
              "      <td>0.0</td>\n",
              "      <td>0.0</td>\n",
              "      <td>2417.0</td>\n",
              "      <td>721.0</td>\n",
              "      <td>14.0</td>\n",
              "      <td>113.0</td>\n",
              "      <td>0.0</td>\n",
              "      <td>13.0</td>\n",
              "      <td>47.900000</td>\n",
              "    </tr>\n",
              "    <tr>\n",
              "      <th>40</th>\n",
              "      <td>2</td>\n",
              "      <td>3.0</td>\n",
              "      <td>2.0</td>\n",
              "      <td>2.0</td>\n",
              "      <td>0.0</td>\n",
              "      <td>3.0</td>\n",
              "      <td>1.000000</td>\n",
              "      <td>0.666667</td>\n",
              "      <td>0.666667</td>\n",
              "      <td>0.000000</td>\n",
              "      <td>...</td>\n",
              "      <td>33.0</td>\n",
              "      <td>8.0</td>\n",
              "      <td>3.0</td>\n",
              "      <td>1888.0</td>\n",
              "      <td>9338.0</td>\n",
              "      <td>3.0</td>\n",
              "      <td>11.0</td>\n",
              "      <td>0.0</td>\n",
              "      <td>0.0</td>\n",
              "      <td>0.000000</td>\n",
              "    </tr>\n",
              "    <tr>\n",
              "      <th>36</th>\n",
              "      <td>2</td>\n",
              "      <td>3.0</td>\n",
              "      <td>0.0</td>\n",
              "      <td>2.0</td>\n",
              "      <td>0.0</td>\n",
              "      <td>3.0</td>\n",
              "      <td>1.000000</td>\n",
              "      <td>0.000000</td>\n",
              "      <td>0.666667</td>\n",
              "      <td>0.000000</td>\n",
              "      <td>...</td>\n",
              "      <td>17.0</td>\n",
              "      <td>0.0</td>\n",
              "      <td>2.0</td>\n",
              "      <td>12028.0</td>\n",
              "      <td>11379.0</td>\n",
              "      <td>26.0</td>\n",
              "      <td>24.0</td>\n",
              "      <td>0.0</td>\n",
              "      <td>77.0</td>\n",
              "      <td>23.959522</td>\n",
              "    </tr>\n",
              "    <tr>\n",
              "      <th>90</th>\n",
              "      <td>2</td>\n",
              "      <td>3.0</td>\n",
              "      <td>0.0</td>\n",
              "      <td>3.0</td>\n",
              "      <td>3.0</td>\n",
              "      <td>3.0</td>\n",
              "      <td>1.000000</td>\n",
              "      <td>0.000000</td>\n",
              "      <td>1.000000</td>\n",
              "      <td>1.000000</td>\n",
              "      <td>...</td>\n",
              "      <td>67.0</td>\n",
              "      <td>27.0</td>\n",
              "      <td>0.0</td>\n",
              "      <td>814.0</td>\n",
              "      <td>13555.0</td>\n",
              "      <td>108.0</td>\n",
              "      <td>113.0</td>\n",
              "      <td>0.0</td>\n",
              "      <td>0.0</td>\n",
              "      <td>0.000000</td>\n",
              "    </tr>\n",
              "    <tr>\n",
              "      <th>...</th>\n",
              "      <td>...</td>\n",
              "      <td>...</td>\n",
              "      <td>...</td>\n",
              "      <td>...</td>\n",
              "      <td>...</td>\n",
              "      <td>...</td>\n",
              "      <td>...</td>\n",
              "      <td>...</td>\n",
              "      <td>...</td>\n",
              "      <td>...</td>\n",
              "      <td>...</td>\n",
              "      <td>...</td>\n",
              "      <td>...</td>\n",
              "      <td>...</td>\n",
              "      <td>...</td>\n",
              "      <td>...</td>\n",
              "      <td>...</td>\n",
              "      <td>...</td>\n",
              "      <td>...</td>\n",
              "      <td>...</td>\n",
              "      <td>...</td>\n",
              "    </tr>\n",
              "    <tr>\n",
              "      <th>44</th>\n",
              "      <td>0</td>\n",
              "      <td>2.0</td>\n",
              "      <td>0.0</td>\n",
              "      <td>0.0</td>\n",
              "      <td>0.0</td>\n",
              "      <td>2.0</td>\n",
              "      <td>0.666667</td>\n",
              "      <td>0.000000</td>\n",
              "      <td>0.000000</td>\n",
              "      <td>0.000000</td>\n",
              "      <td>...</td>\n",
              "      <td>41.0</td>\n",
              "      <td>8.0</td>\n",
              "      <td>0.0</td>\n",
              "      <td>868.0</td>\n",
              "      <td>9260.0</td>\n",
              "      <td>246.0</td>\n",
              "      <td>88.0</td>\n",
              "      <td>0.0</td>\n",
              "      <td>0.0</td>\n",
              "      <td>0.000000</td>\n",
              "    </tr>\n",
              "    <tr>\n",
              "      <th>43</th>\n",
              "      <td>0</td>\n",
              "      <td>2.0</td>\n",
              "      <td>0.0</td>\n",
              "      <td>0.0</td>\n",
              "      <td>0.0</td>\n",
              "      <td>2.0</td>\n",
              "      <td>0.666667</td>\n",
              "      <td>0.000000</td>\n",
              "      <td>0.000000</td>\n",
              "      <td>0.000000</td>\n",
              "      <td>...</td>\n",
              "      <td>38.0</td>\n",
              "      <td>4.0</td>\n",
              "      <td>0.0</td>\n",
              "      <td>797.0</td>\n",
              "      <td>9260.0</td>\n",
              "      <td>237.0</td>\n",
              "      <td>80.0</td>\n",
              "      <td>0.0</td>\n",
              "      <td>0.0</td>\n",
              "      <td>0.000000</td>\n",
              "    </tr>\n",
              "    <tr>\n",
              "      <th>42</th>\n",
              "      <td>0</td>\n",
              "      <td>3.0</td>\n",
              "      <td>0.0</td>\n",
              "      <td>3.0</td>\n",
              "      <td>1.0</td>\n",
              "      <td>3.0</td>\n",
              "      <td>1.000000</td>\n",
              "      <td>0.000000</td>\n",
              "      <td>1.000000</td>\n",
              "      <td>0.333333</td>\n",
              "      <td>...</td>\n",
              "      <td>65.0</td>\n",
              "      <td>83.0</td>\n",
              "      <td>5.0</td>\n",
              "      <td>144.0</td>\n",
              "      <td>262.0</td>\n",
              "      <td>157.0</td>\n",
              "      <td>179.0</td>\n",
              "      <td>0.0</td>\n",
              "      <td>0.0</td>\n",
              "      <td>0.000000</td>\n",
              "    </tr>\n",
              "    <tr>\n",
              "      <th>41</th>\n",
              "      <td>0</td>\n",
              "      <td>3.0</td>\n",
              "      <td>1.0</td>\n",
              "      <td>3.0</td>\n",
              "      <td>2.0</td>\n",
              "      <td>3.0</td>\n",
              "      <td>1.000000</td>\n",
              "      <td>0.333333</td>\n",
              "      <td>1.000000</td>\n",
              "      <td>0.666667</td>\n",
              "      <td>...</td>\n",
              "      <td>65.0</td>\n",
              "      <td>195.0</td>\n",
              "      <td>8.0</td>\n",
              "      <td>124.0</td>\n",
              "      <td>206.0</td>\n",
              "      <td>103.0</td>\n",
              "      <td>121.0</td>\n",
              "      <td>0.0</td>\n",
              "      <td>0.0</td>\n",
              "      <td>0.000000</td>\n",
              "    </tr>\n",
              "    <tr>\n",
              "      <th>102</th>\n",
              "      <td>0</td>\n",
              "      <td>3.0</td>\n",
              "      <td>0.0</td>\n",
              "      <td>2.0</td>\n",
              "      <td>0.0</td>\n",
              "      <td>3.0</td>\n",
              "      <td>1.000000</td>\n",
              "      <td>0.000000</td>\n",
              "      <td>0.666667</td>\n",
              "      <td>0.000000</td>\n",
              "      <td>...</td>\n",
              "      <td>59.0</td>\n",
              "      <td>1415.0</td>\n",
              "      <td>14.0</td>\n",
              "      <td>5334.0</td>\n",
              "      <td>6434.0</td>\n",
              "      <td>4.0</td>\n",
              "      <td>17.0</td>\n",
              "      <td>0.0</td>\n",
              "      <td>0.0</td>\n",
              "      <td>0.000000</td>\n",
              "    </tr>\n",
              "  </tbody>\n",
              "</table>\n",
              "<p>103 rows × 137 columns</p>\n",
              "</div>\n",
              "      <button class=\"colab-df-convert\" onclick=\"convertToInteractive('df-2e5362bc-01ee-4a24-9692-bbda3baf80c6')\"\n",
              "              title=\"Convert this dataframe to an interactive table.\"\n",
              "              style=\"display:none;\">\n",
              "        \n",
              "  <svg xmlns=\"http://www.w3.org/2000/svg\" height=\"24px\"viewBox=\"0 0 24 24\"\n",
              "       width=\"24px\">\n",
              "    <path d=\"M0 0h24v24H0V0z\" fill=\"none\"/>\n",
              "    <path d=\"M18.56 5.44l.94 2.06.94-2.06 2.06-.94-2.06-.94-.94-2.06-.94 2.06-2.06.94zm-11 1L8.5 8.5l.94-2.06 2.06-.94-2.06-.94L8.5 2.5l-.94 2.06-2.06.94zm10 10l.94 2.06.94-2.06 2.06-.94-2.06-.94-.94-2.06-.94 2.06-2.06.94z\"/><path d=\"M17.41 7.96l-1.37-1.37c-.4-.4-.92-.59-1.43-.59-.52 0-1.04.2-1.43.59L10.3 9.45l-7.72 7.72c-.78.78-.78 2.05 0 2.83L4 21.41c.39.39.9.59 1.41.59.51 0 1.02-.2 1.41-.59l7.78-7.78 2.81-2.81c.8-.78.8-2.07 0-2.86zM5.41 20L4 18.59l7.72-7.72 1.47 1.35L5.41 20z\"/>\n",
              "  </svg>\n",
              "      </button>\n",
              "      \n",
              "  <style>\n",
              "    .colab-df-container {\n",
              "      display:flex;\n",
              "      flex-wrap:wrap;\n",
              "      gap: 12px;\n",
              "    }\n",
              "\n",
              "    .colab-df-convert {\n",
              "      background-color: #E8F0FE;\n",
              "      border: none;\n",
              "      border-radius: 50%;\n",
              "      cursor: pointer;\n",
              "      display: none;\n",
              "      fill: #1967D2;\n",
              "      height: 32px;\n",
              "      padding: 0 0 0 0;\n",
              "      width: 32px;\n",
              "    }\n",
              "\n",
              "    .colab-df-convert:hover {\n",
              "      background-color: #E2EBFA;\n",
              "      box-shadow: 0px 1px 2px rgba(60, 64, 67, 0.3), 0px 1px 3px 1px rgba(60, 64, 67, 0.15);\n",
              "      fill: #174EA6;\n",
              "    }\n",
              "\n",
              "    [theme=dark] .colab-df-convert {\n",
              "      background-color: #3B4455;\n",
              "      fill: #D2E3FC;\n",
              "    }\n",
              "\n",
              "    [theme=dark] .colab-df-convert:hover {\n",
              "      background-color: #434B5C;\n",
              "      box-shadow: 0px 1px 3px 1px rgba(0, 0, 0, 0.15);\n",
              "      filter: drop-shadow(0px 1px 2px rgba(0, 0, 0, 0.3));\n",
              "      fill: #FFFFFF;\n",
              "    }\n",
              "  </style>\n",
              "\n",
              "      <script>\n",
              "        const buttonEl =\n",
              "          document.querySelector('#df-2e5362bc-01ee-4a24-9692-bbda3baf80c6 button.colab-df-convert');\n",
              "        buttonEl.style.display =\n",
              "          google.colab.kernel.accessAllowed ? 'block' : 'none';\n",
              "\n",
              "        async function convertToInteractive(key) {\n",
              "          const element = document.querySelector('#df-2e5362bc-01ee-4a24-9692-bbda3baf80c6');\n",
              "          const dataTable =\n",
              "            await google.colab.kernel.invokeFunction('convertToInteractive',\n",
              "                                                     [key], {});\n",
              "          if (!dataTable) return;\n",
              "\n",
              "          const docLinkHtml = 'Like what you see? Visit the ' +\n",
              "            '<a target=\"_blank\" href=https://colab.research.google.com/notebooks/data_table.ipynb>data table notebook</a>'\n",
              "            + ' to learn more about interactive tables.';\n",
              "          element.innerHTML = '';\n",
              "          dataTable['output_type'] = 'display_data';\n",
              "          await google.colab.output.renderOutput(dataTable, element);\n",
              "          const docLink = document.createElement('div');\n",
              "          docLink.innerHTML = docLinkHtml;\n",
              "          element.appendChild(docLink);\n",
              "        }\n",
              "      </script>\n",
              "    </div>\n",
              "  </div>\n",
              "  "
            ]
          },
          "metadata": {},
          "execution_count": 37
        }
      ]
    },
    {
      "cell_type": "code",
      "source": [
        "data_sorted.to_csv(\"/content/drive/MyDrive/IR_Assignments/MSLRDataset_DCGRanked.csv\")"
      ],
      "metadata": {
        "id": "PfvZIn1ZZ5nZ"
      },
      "execution_count": 39,
      "outputs": []
    },
    {
      "cell_type": "markdown",
      "source": [
        "**Number of possible files**"
      ],
      "metadata": {
        "id": "-vqppJ5mLcDz"
      }
    },
    {
      "cell_type": "code",
      "source": [
        "def count_files(data):\n",
        "    num4 = (data['relevance_score'] == 4).sum()\n",
        "    num3 = (data['relevance_score'] == 3).sum()\n",
        "    num2 = (data['relevance_score'] == 2).sum()\n",
        "    num1 = (data['relevance_score'] == 1).sum()\n",
        "    num0 = (data['relevance_score'] == 0).sum()\n",
        "    return math.factorial(num0)*math.factorial(num1)*math.factorial(num2)*math.factorial(num3)*math.factorial(num4)\n",
        "\n",
        "num_files = count_files(data)"
      ],
      "metadata": {
        "id": "JYyq6FteLpx5"
      },
      "execution_count": 40,
      "outputs": []
    },
    {
      "cell_type": "code",
      "source": [
        "print('Number of possible files ranked in order of max DCG: ', num_files)"
      ],
      "metadata": {
        "colab": {
          "base_uri": "https://localhost:8080/"
        },
        "id": "OJ6wo8BvhaQX",
        "outputId": "1cf2a246-c0ab-491b-ecaf-38ab56bea6e0"
      },
      "execution_count": 41,
      "outputs": [
        {
          "output_type": "stream",
          "name": "stdout",
          "text": [
            "Number of possible files ranked in order of max DCG:  19893497375938370599826047614905329896936840170566570588205180312704857992695193482412686565431050240000000000000000000000\n"
          ]
        }
      ]
    },
    {
      "cell_type": "markdown",
      "source": [
        "**nDCG**"
      ],
      "metadata": {
        "id": "ESohB_614c2i"
      }
    },
    {
      "cell_type": "code",
      "source": [
        "def dcg(data, n):\n",
        "    dcg = 0\n",
        "    for i in range(0, n, 1):\n",
        "        if i == 0:\n",
        "            dcg += data.iloc[i, 0]\n",
        "        else:\n",
        "            dcg += data.iloc[i, 0]/math.log(i+1, 2)\n",
        "    return dcg\n",
        "\n",
        "def ndcg(data, data2, n):\n",
        "    dcg1 = dcg(data, n)\n",
        "    dcg2 = dcg(data2, n)\n",
        "    ndcg = dcg2/dcg1\n",
        "    return ndcg"
      ],
      "metadata": {
        "id": "OJBA62wEaMCW"
      },
      "execution_count": 93,
      "outputs": []
    },
    {
      "cell_type": "code",
      "source": [
        "data_sorted_75 = data.sort_values(by=['feature_75'], ascending=False)\n",
        "data_sorted_75"
      ],
      "metadata": {
        "colab": {
          "base_uri": "https://localhost:8080/",
          "height": 487
        },
        "id": "mD5ZP3Za9eLR",
        "outputId": "409286e6-a551-402f-ab8a-f9742120f771"
      },
      "execution_count": 42,
      "outputs": [
        {
          "output_type": "execute_result",
          "data": {
            "text/plain": [
              "     relevance_score  feature_1  feature_2  feature_3  feature_4  feature_5  \\\n",
              "8                  0        3.0        0.0        3.0        0.0        3.0   \n",
              "67                 0        3.0        0.0        3.0        2.0        3.0   \n",
              "56                 0        3.0        1.0        3.0        1.0        3.0   \n",
              "1                  0        3.0        0.0        3.0        0.0        3.0   \n",
              "101                1        2.0        0.0        2.0        0.0        2.0   \n",
              "..               ...        ...        ...        ...        ...        ...   \n",
              "94                 0        2.0        0.0        0.0        0.0        2.0   \n",
              "16                 0        3.0        0.0        0.0        0.0        3.0   \n",
              "86                 0        3.0        0.0        0.0        0.0        3.0   \n",
              "49                 0        1.0        0.0        1.0        0.0        1.0   \n",
              "81                 0        1.0        0.0        0.0        0.0        1.0   \n",
              "\n",
              "     feature_6  feature_7  feature_8  feature_9  ...  feature_127  \\\n",
              "8     1.000000   0.000000   1.000000   0.000000  ...         51.0   \n",
              "67    1.000000   0.000000   1.000000   0.666667  ...         61.0   \n",
              "56    1.000000   0.333333   1.000000   0.333333  ...         48.0   \n",
              "1     1.000000   0.000000   1.000000   0.000000  ...         61.0   \n",
              "101   0.666667   0.000000   0.666667   0.000000  ...         23.0   \n",
              "..         ...        ...        ...        ...  ...          ...   \n",
              "94    0.666667   0.000000   0.000000   0.000000  ...         19.0   \n",
              "16    1.000000   0.000000   0.000000   0.000000  ...         48.0   \n",
              "86    1.000000   0.000000   0.000000   0.000000  ...         34.0   \n",
              "49    0.333333   0.000000   0.333333   0.000000  ...         24.0   \n",
              "81    0.333333   0.000000   0.000000   0.000000  ...         20.0   \n",
              "\n",
              "     feature_128  feature_129  feature_130  feature_131  feature_132  \\\n",
              "8          766.0          0.0        119.0      32560.0         45.0   \n",
              "67           0.0          9.0        120.0        392.0        162.0   \n",
              "56         189.0          8.0        549.0       2650.0         91.0   \n",
              "1            0.0          8.0        122.0        508.0        131.0   \n",
              "101          0.0          1.0      42877.0      26562.0         12.0   \n",
              "..           ...          ...          ...          ...          ...   \n",
              "94           0.0          2.0      59949.0      22708.0          5.0   \n",
              "16           2.0          2.0        144.0       1917.0         19.0   \n",
              "86          43.0          2.0       3262.0       1859.0         20.0   \n",
              "49          11.0          0.0       9040.0       8756.0         51.0   \n",
              "81           0.0          2.0      18637.0      11377.0         12.0   \n",
              "\n",
              "     feature_133  feature_134  feature_135  feature_136  \n",
              "8           24.0          0.0          0.0     0.000000  \n",
              "67         169.0          0.0          0.0     0.000000  \n",
              "56         114.0          0.0          0.0     0.000000  \n",
              "1          136.0          0.0          0.0     0.000000  \n",
              "101         24.0          0.0         56.0    62.920604  \n",
              "..           ...          ...          ...          ...  \n",
              "94           6.0          0.0        391.0    28.267114  \n",
              "16         119.0          0.0          0.0     0.000000  \n",
              "86         165.0          0.0          0.0     0.000000  \n",
              "49          17.0          0.0         10.0    20.133333  \n",
              "81         110.0          0.0        122.0    29.542582  \n",
              "\n",
              "[103 rows x 137 columns]"
            ],
            "text/html": [
              "\n",
              "  <div id=\"df-7505d6b6-36fd-469e-8606-c15eb43de763\">\n",
              "    <div class=\"colab-df-container\">\n",
              "      <div>\n",
              "<style scoped>\n",
              "    .dataframe tbody tr th:only-of-type {\n",
              "        vertical-align: middle;\n",
              "    }\n",
              "\n",
              "    .dataframe tbody tr th {\n",
              "        vertical-align: top;\n",
              "    }\n",
              "\n",
              "    .dataframe thead th {\n",
              "        text-align: right;\n",
              "    }\n",
              "</style>\n",
              "<table border=\"1\" class=\"dataframe\">\n",
              "  <thead>\n",
              "    <tr style=\"text-align: right;\">\n",
              "      <th></th>\n",
              "      <th>relevance_score</th>\n",
              "      <th>feature_1</th>\n",
              "      <th>feature_2</th>\n",
              "      <th>feature_3</th>\n",
              "      <th>feature_4</th>\n",
              "      <th>feature_5</th>\n",
              "      <th>feature_6</th>\n",
              "      <th>feature_7</th>\n",
              "      <th>feature_8</th>\n",
              "      <th>feature_9</th>\n",
              "      <th>...</th>\n",
              "      <th>feature_127</th>\n",
              "      <th>feature_128</th>\n",
              "      <th>feature_129</th>\n",
              "      <th>feature_130</th>\n",
              "      <th>feature_131</th>\n",
              "      <th>feature_132</th>\n",
              "      <th>feature_133</th>\n",
              "      <th>feature_134</th>\n",
              "      <th>feature_135</th>\n",
              "      <th>feature_136</th>\n",
              "    </tr>\n",
              "  </thead>\n",
              "  <tbody>\n",
              "    <tr>\n",
              "      <th>8</th>\n",
              "      <td>0</td>\n",
              "      <td>3.0</td>\n",
              "      <td>0.0</td>\n",
              "      <td>3.0</td>\n",
              "      <td>0.0</td>\n",
              "      <td>3.0</td>\n",
              "      <td>1.000000</td>\n",
              "      <td>0.000000</td>\n",
              "      <td>1.000000</td>\n",
              "      <td>0.000000</td>\n",
              "      <td>...</td>\n",
              "      <td>51.0</td>\n",
              "      <td>766.0</td>\n",
              "      <td>0.0</td>\n",
              "      <td>119.0</td>\n",
              "      <td>32560.0</td>\n",
              "      <td>45.0</td>\n",
              "      <td>24.0</td>\n",
              "      <td>0.0</td>\n",
              "      <td>0.0</td>\n",
              "      <td>0.000000</td>\n",
              "    </tr>\n",
              "    <tr>\n",
              "      <th>67</th>\n",
              "      <td>0</td>\n",
              "      <td>3.0</td>\n",
              "      <td>0.0</td>\n",
              "      <td>3.0</td>\n",
              "      <td>2.0</td>\n",
              "      <td>3.0</td>\n",
              "      <td>1.000000</td>\n",
              "      <td>0.000000</td>\n",
              "      <td>1.000000</td>\n",
              "      <td>0.666667</td>\n",
              "      <td>...</td>\n",
              "      <td>61.0</td>\n",
              "      <td>0.0</td>\n",
              "      <td>9.0</td>\n",
              "      <td>120.0</td>\n",
              "      <td>392.0</td>\n",
              "      <td>162.0</td>\n",
              "      <td>169.0</td>\n",
              "      <td>0.0</td>\n",
              "      <td>0.0</td>\n",
              "      <td>0.000000</td>\n",
              "    </tr>\n",
              "    <tr>\n",
              "      <th>56</th>\n",
              "      <td>0</td>\n",
              "      <td>3.0</td>\n",
              "      <td>1.0</td>\n",
              "      <td>3.0</td>\n",
              "      <td>1.0</td>\n",
              "      <td>3.0</td>\n",
              "      <td>1.000000</td>\n",
              "      <td>0.333333</td>\n",
              "      <td>1.000000</td>\n",
              "      <td>0.333333</td>\n",
              "      <td>...</td>\n",
              "      <td>48.0</td>\n",
              "      <td>189.0</td>\n",
              "      <td>8.0</td>\n",
              "      <td>549.0</td>\n",
              "      <td>2650.0</td>\n",
              "      <td>91.0</td>\n",
              "      <td>114.0</td>\n",
              "      <td>0.0</td>\n",
              "      <td>0.0</td>\n",
              "      <td>0.000000</td>\n",
              "    </tr>\n",
              "    <tr>\n",
              "      <th>1</th>\n",
              "      <td>0</td>\n",
              "      <td>3.0</td>\n",
              "      <td>0.0</td>\n",
              "      <td>3.0</td>\n",
              "      <td>0.0</td>\n",
              "      <td>3.0</td>\n",
              "      <td>1.000000</td>\n",
              "      <td>0.000000</td>\n",
              "      <td>1.000000</td>\n",
              "      <td>0.000000</td>\n",
              "      <td>...</td>\n",
              "      <td>61.0</td>\n",
              "      <td>0.0</td>\n",
              "      <td>8.0</td>\n",
              "      <td>122.0</td>\n",
              "      <td>508.0</td>\n",
              "      <td>131.0</td>\n",
              "      <td>136.0</td>\n",
              "      <td>0.0</td>\n",
              "      <td>0.0</td>\n",
              "      <td>0.000000</td>\n",
              "    </tr>\n",
              "    <tr>\n",
              "      <th>101</th>\n",
              "      <td>1</td>\n",
              "      <td>2.0</td>\n",
              "      <td>0.0</td>\n",
              "      <td>2.0</td>\n",
              "      <td>0.0</td>\n",
              "      <td>2.0</td>\n",
              "      <td>0.666667</td>\n",
              "      <td>0.000000</td>\n",
              "      <td>0.666667</td>\n",
              "      <td>0.000000</td>\n",
              "      <td>...</td>\n",
              "      <td>23.0</td>\n",
              "      <td>0.0</td>\n",
              "      <td>1.0</td>\n",
              "      <td>42877.0</td>\n",
              "      <td>26562.0</td>\n",
              "      <td>12.0</td>\n",
              "      <td>24.0</td>\n",
              "      <td>0.0</td>\n",
              "      <td>56.0</td>\n",
              "      <td>62.920604</td>\n",
              "    </tr>\n",
              "    <tr>\n",
              "      <th>...</th>\n",
              "      <td>...</td>\n",
              "      <td>...</td>\n",
              "      <td>...</td>\n",
              "      <td>...</td>\n",
              "      <td>...</td>\n",
              "      <td>...</td>\n",
              "      <td>...</td>\n",
              "      <td>...</td>\n",
              "      <td>...</td>\n",
              "      <td>...</td>\n",
              "      <td>...</td>\n",
              "      <td>...</td>\n",
              "      <td>...</td>\n",
              "      <td>...</td>\n",
              "      <td>...</td>\n",
              "      <td>...</td>\n",
              "      <td>...</td>\n",
              "      <td>...</td>\n",
              "      <td>...</td>\n",
              "      <td>...</td>\n",
              "      <td>...</td>\n",
              "    </tr>\n",
              "    <tr>\n",
              "      <th>94</th>\n",
              "      <td>0</td>\n",
              "      <td>2.0</td>\n",
              "      <td>0.0</td>\n",
              "      <td>0.0</td>\n",
              "      <td>0.0</td>\n",
              "      <td>2.0</td>\n",
              "      <td>0.666667</td>\n",
              "      <td>0.000000</td>\n",
              "      <td>0.000000</td>\n",
              "      <td>0.000000</td>\n",
              "      <td>...</td>\n",
              "      <td>19.0</td>\n",
              "      <td>0.0</td>\n",
              "      <td>2.0</td>\n",
              "      <td>59949.0</td>\n",
              "      <td>22708.0</td>\n",
              "      <td>5.0</td>\n",
              "      <td>6.0</td>\n",
              "      <td>0.0</td>\n",
              "      <td>391.0</td>\n",
              "      <td>28.267114</td>\n",
              "    </tr>\n",
              "    <tr>\n",
              "      <th>16</th>\n",
              "      <td>0</td>\n",
              "      <td>3.0</td>\n",
              "      <td>0.0</td>\n",
              "      <td>0.0</td>\n",
              "      <td>0.0</td>\n",
              "      <td>3.0</td>\n",
              "      <td>1.000000</td>\n",
              "      <td>0.000000</td>\n",
              "      <td>0.000000</td>\n",
              "      <td>0.000000</td>\n",
              "      <td>...</td>\n",
              "      <td>48.0</td>\n",
              "      <td>2.0</td>\n",
              "      <td>2.0</td>\n",
              "      <td>144.0</td>\n",
              "      <td>1917.0</td>\n",
              "      <td>19.0</td>\n",
              "      <td>119.0</td>\n",
              "      <td>0.0</td>\n",
              "      <td>0.0</td>\n",
              "      <td>0.000000</td>\n",
              "    </tr>\n",
              "    <tr>\n",
              "      <th>86</th>\n",
              "      <td>0</td>\n",
              "      <td>3.0</td>\n",
              "      <td>0.0</td>\n",
              "      <td>0.0</td>\n",
              "      <td>0.0</td>\n",
              "      <td>3.0</td>\n",
              "      <td>1.000000</td>\n",
              "      <td>0.000000</td>\n",
              "      <td>0.000000</td>\n",
              "      <td>0.000000</td>\n",
              "      <td>...</td>\n",
              "      <td>34.0</td>\n",
              "      <td>43.0</td>\n",
              "      <td>2.0</td>\n",
              "      <td>3262.0</td>\n",
              "      <td>1859.0</td>\n",
              "      <td>20.0</td>\n",
              "      <td>165.0</td>\n",
              "      <td>0.0</td>\n",
              "      <td>0.0</td>\n",
              "      <td>0.000000</td>\n",
              "    </tr>\n",
              "    <tr>\n",
              "      <th>49</th>\n",
              "      <td>0</td>\n",
              "      <td>1.0</td>\n",
              "      <td>0.0</td>\n",
              "      <td>1.0</td>\n",
              "      <td>0.0</td>\n",
              "      <td>1.0</td>\n",
              "      <td>0.333333</td>\n",
              "      <td>0.000000</td>\n",
              "      <td>0.333333</td>\n",
              "      <td>0.000000</td>\n",
              "      <td>...</td>\n",
              "      <td>24.0</td>\n",
              "      <td>11.0</td>\n",
              "      <td>0.0</td>\n",
              "      <td>9040.0</td>\n",
              "      <td>8756.0</td>\n",
              "      <td>51.0</td>\n",
              "      <td>17.0</td>\n",
              "      <td>0.0</td>\n",
              "      <td>10.0</td>\n",
              "      <td>20.133333</td>\n",
              "    </tr>\n",
              "    <tr>\n",
              "      <th>81</th>\n",
              "      <td>0</td>\n",
              "      <td>1.0</td>\n",
              "      <td>0.0</td>\n",
              "      <td>0.0</td>\n",
              "      <td>0.0</td>\n",
              "      <td>1.0</td>\n",
              "      <td>0.333333</td>\n",
              "      <td>0.000000</td>\n",
              "      <td>0.000000</td>\n",
              "      <td>0.000000</td>\n",
              "      <td>...</td>\n",
              "      <td>20.0</td>\n",
              "      <td>0.0</td>\n",
              "      <td>2.0</td>\n",
              "      <td>18637.0</td>\n",
              "      <td>11377.0</td>\n",
              "      <td>12.0</td>\n",
              "      <td>110.0</td>\n",
              "      <td>0.0</td>\n",
              "      <td>122.0</td>\n",
              "      <td>29.542582</td>\n",
              "    </tr>\n",
              "  </tbody>\n",
              "</table>\n",
              "<p>103 rows × 137 columns</p>\n",
              "</div>\n",
              "      <button class=\"colab-df-convert\" onclick=\"convertToInteractive('df-7505d6b6-36fd-469e-8606-c15eb43de763')\"\n",
              "              title=\"Convert this dataframe to an interactive table.\"\n",
              "              style=\"display:none;\">\n",
              "        \n",
              "  <svg xmlns=\"http://www.w3.org/2000/svg\" height=\"24px\"viewBox=\"0 0 24 24\"\n",
              "       width=\"24px\">\n",
              "    <path d=\"M0 0h24v24H0V0z\" fill=\"none\"/>\n",
              "    <path d=\"M18.56 5.44l.94 2.06.94-2.06 2.06-.94-2.06-.94-.94-2.06-.94 2.06-2.06.94zm-11 1L8.5 8.5l.94-2.06 2.06-.94-2.06-.94L8.5 2.5l-.94 2.06-2.06.94zm10 10l.94 2.06.94-2.06 2.06-.94-2.06-.94-.94-2.06-.94 2.06-2.06.94z\"/><path d=\"M17.41 7.96l-1.37-1.37c-.4-.4-.92-.59-1.43-.59-.52 0-1.04.2-1.43.59L10.3 9.45l-7.72 7.72c-.78.78-.78 2.05 0 2.83L4 21.41c.39.39.9.59 1.41.59.51 0 1.02-.2 1.41-.59l7.78-7.78 2.81-2.81c.8-.78.8-2.07 0-2.86zM5.41 20L4 18.59l7.72-7.72 1.47 1.35L5.41 20z\"/>\n",
              "  </svg>\n",
              "      </button>\n",
              "      \n",
              "  <style>\n",
              "    .colab-df-container {\n",
              "      display:flex;\n",
              "      flex-wrap:wrap;\n",
              "      gap: 12px;\n",
              "    }\n",
              "\n",
              "    .colab-df-convert {\n",
              "      background-color: #E8F0FE;\n",
              "      border: none;\n",
              "      border-radius: 50%;\n",
              "      cursor: pointer;\n",
              "      display: none;\n",
              "      fill: #1967D2;\n",
              "      height: 32px;\n",
              "      padding: 0 0 0 0;\n",
              "      width: 32px;\n",
              "    }\n",
              "\n",
              "    .colab-df-convert:hover {\n",
              "      background-color: #E2EBFA;\n",
              "      box-shadow: 0px 1px 2px rgba(60, 64, 67, 0.3), 0px 1px 3px 1px rgba(60, 64, 67, 0.15);\n",
              "      fill: #174EA6;\n",
              "    }\n",
              "\n",
              "    [theme=dark] .colab-df-convert {\n",
              "      background-color: #3B4455;\n",
              "      fill: #D2E3FC;\n",
              "    }\n",
              "\n",
              "    [theme=dark] .colab-df-convert:hover {\n",
              "      background-color: #434B5C;\n",
              "      box-shadow: 0px 1px 3px 1px rgba(0, 0, 0, 0.15);\n",
              "      filter: drop-shadow(0px 1px 2px rgba(0, 0, 0, 0.3));\n",
              "      fill: #FFFFFF;\n",
              "    }\n",
              "  </style>\n",
              "\n",
              "      <script>\n",
              "        const buttonEl =\n",
              "          document.querySelector('#df-7505d6b6-36fd-469e-8606-c15eb43de763 button.colab-df-convert');\n",
              "        buttonEl.style.display =\n",
              "          google.colab.kernel.accessAllowed ? 'block' : 'none';\n",
              "\n",
              "        async function convertToInteractive(key) {\n",
              "          const element = document.querySelector('#df-7505d6b6-36fd-469e-8606-c15eb43de763');\n",
              "          const dataTable =\n",
              "            await google.colab.kernel.invokeFunction('convertToInteractive',\n",
              "                                                     [key], {});\n",
              "          if (!dataTable) return;\n",
              "\n",
              "          const docLinkHtml = 'Like what you see? Visit the ' +\n",
              "            '<a target=\"_blank\" href=https://colab.research.google.com/notebooks/data_table.ipynb>data table notebook</a>'\n",
              "            + ' to learn more about interactive tables.';\n",
              "          element.innerHTML = '';\n",
              "          dataTable['output_type'] = 'display_data';\n",
              "          await google.colab.output.renderOutput(dataTable, element);\n",
              "          const docLink = document.createElement('div');\n",
              "          docLink.innerHTML = docLinkHtml;\n",
              "          element.appendChild(docLink);\n",
              "        }\n",
              "      </script>\n",
              "    </div>\n",
              "  </div>\n",
              "  "
            ]
          },
          "metadata": {},
          "execution_count": 42
        }
      ]
    },
    {
      "cell_type": "markdown",
      "source": [
        "nDCG for given dataset ranking"
      ],
      "metadata": {
        "id": "ouVe8sLzh-UN"
      }
    },
    {
      "cell_type": "code",
      "source": [
        "at50 = ndcg(data_sorted, data, 50)\n",
        "full_dataset = ndcg(data_sorted, data, data.shape[0])"
      ],
      "metadata": {
        "id": "TSG9hVg9U0PS"
      },
      "execution_count": 94,
      "outputs": []
    },
    {
      "cell_type": "code",
      "source": [
        "print('nDCG at 50: ', at50)"
      ],
      "metadata": {
        "colab": {
          "base_uri": "https://localhost:8080/"
        },
        "id": "gEz1rkWZVTC1",
        "outputId": "4534a15e-2564-44e6-9c8b-6eedf22a94f1"
      },
      "execution_count": 95,
      "outputs": [
        {
          "output_type": "stream",
          "name": "stdout",
          "text": [
            "nDCG at 50:  0.3521042740324887\n"
          ]
        }
      ]
    },
    {
      "cell_type": "code",
      "source": [
        "print('nDCG for the whole dataset: ', full_dataset)"
      ],
      "metadata": {
        "colab": {
          "base_uri": "https://localhost:8080/"
        },
        "id": "9wox5fxZVVsO",
        "outputId": "2482c62c-5ea9-4569-f86f-260479b6fd8c"
      },
      "execution_count": 96,
      "outputs": [
        {
          "output_type": "stream",
          "name": "stdout",
          "text": [
            "nDCG for the whole dataset:  0.5979226516897831\n"
          ]
        }
      ]
    },
    {
      "cell_type": "markdown",
      "source": [
        "nDCG for data sorted by feature 75"
      ],
      "metadata": {
        "id": "MPVl6A4qiFZm"
      }
    },
    {
      "cell_type": "code",
      "source": [
        "at50 = ndcg(data_sorted, data_sorted_75, 51)\n",
        "full_dataset = ndcg(data_sorted, data_sorted_75, data.shape[0])"
      ],
      "metadata": {
        "id": "H4m06HNx7eXS"
      },
      "execution_count": 83,
      "outputs": []
    },
    {
      "cell_type": "code",
      "source": [
        "print('nDCG at 50: ', at50)"
      ],
      "metadata": {
        "colab": {
          "base_uri": "https://localhost:8080/"
        },
        "id": "bMoGMmEMijwP",
        "outputId": "ab5fb6d9-2f72-40c9-f709-05d892f3031e"
      },
      "execution_count": 84,
      "outputs": [
        {
          "output_type": "stream",
          "name": "stdout",
          "text": [
            "nDCG at 50:  0.5117717307035755\n"
          ]
        }
      ]
    },
    {
      "cell_type": "code",
      "source": [
        "print('nDCG for the whole dataset: ', full_dataset)"
      ],
      "metadata": {
        "colab": {
          "base_uri": "https://localhost:8080/"
        },
        "id": "nUXq2_EYimvA",
        "outputId": "074381b4-2226-4744-aa68-20ab109b739a"
      },
      "execution_count": 85,
      "outputs": [
        {
          "output_type": "stream",
          "name": "stdout",
          "text": [
            "nDCG for the whole dataset:  0.7299636618842381\n"
          ]
        }
      ]
    },
    {
      "cell_type": "markdown",
      "source": [
        "**Precision-Recall Curve**"
      ],
      "metadata": {
        "id": "2odtwTgLmc_B"
      }
    },
    {
      "cell_type": "code",
      "source": [
        "def calc_precision_recall(data):\n",
        "    precision = []\n",
        "    recall = []\n",
        "    numrows = data.shape[0]\n",
        "    tot_relevant = numrows - (data['relevance_score'] == 0).sum()\n",
        "    relevant_ctr = 0\n",
        "    for i in range(1, numrows, 1):\n",
        "        if data.iloc[i, 0] != 0:\n",
        "            relevant_ctr += 1\n",
        "        precision.append(relevant_ctr/(i+1))\n",
        "        recall.append(relevant_ctr/tot_relevant)  \n",
        "\n",
        "    return precision, recall\n",
        "\n",
        "precision, recall = calc_precision_recall(data_sorted_75)"
      ],
      "metadata": {
        "id": "h555mJdZY0ob"
      },
      "execution_count": null,
      "outputs": []
    },
    {
      "cell_type": "code",
      "source": [
        "plt.figure(figsize=(10,6))\n",
        "plt.plot(recall, precision)\n",
        "plt.title('Precision-Recall Curve')\n",
        "plt.xlabel('Recall')\n",
        "plt.ylabel('Precision')\n",
        "plt.show()"
      ],
      "metadata": {
        "colab": {
          "base_uri": "https://localhost:8080/",
          "height": 404
        },
        "id": "XMGzjIduoAFU",
        "outputId": "d81b39f8-8680-4f9a-ad2a-370a8a48d6e1"
      },
      "execution_count": null,
      "outputs": [
        {
          "output_type": "display_data",
          "data": {
            "text/plain": [
              "<Figure size 720x432 with 1 Axes>"
            ],
            "image/png": "[encoded data removed]"
          },
          "metadata": {
            "needs_background": "light"
          }
        }
      ]
    },
    {
      "cell_type": "code",
      "source": [
        "plt.figure(figsize=(10,6))\n",
        "plt.plot(recall, precision, marker='o')\n",
        "plt.title('Precision-Recall Curve')\n",
        "plt.xlabel('Recall')\n",
        "plt.ylabel('Precision')\n",
        "plt.show()"
      ],
      "metadata": {
        "colab": {
          "base_uri": "https://localhost:8080/",
          "height": 404
        },
        "id": "byZxapSyqwBM",
        "outputId": "39b90ab8-2afd-4fab-9f1b-16a145dd01ed"
      },
      "execution_count": null,
      "outputs": [
        {
          "output_type": "display_data",
          "data": {
            "text/plain": [
              "<Figure size 720x432 with 1 Axes>"
            ],
            "image/png": "[encoded data removed]"
          },
          "metadata": {
            "needs_background": "light"
          }
        }
      ]
    }
  ]
}