{
  "nbformat": 4,
  "nbformat_minor": 0,
  "metadata": {
    "colab": {
      "name": "JaccardCoefficient.ipynb",
      "provenance": [],
      "collapsed_sections": []
    },
    "kernelspec": {
      "name": "python3",
      "display_name": "Python 3"
    },
    "language_info": {
      "name": "python"
    }
  },
  "cells": [
    {
      "cell_type": "markdown",
      "source": [
        "# Scoring | Jaccard Coefficient"
      ],
      "metadata": {
        "id": "A6a_WHv9ePoi"
      }
    },
    {
      "cell_type": "markdown",
      "source": [
        "**Imports**"
      ],
      "metadata": {
        "id": "6o67faD9eLoK"
      }
    },
    {
      "cell_type": "code",
      "execution_count": null,
      "metadata": {
        "id": "07BIuowmaLn8"
      },
      "outputs": [],
      "source": [
        "import numpy as np\n",
        "import pandas as pd\n",
        "import matplotlib.pyplot as plt\n",
        "import nltk\n",
        "import json\n",
        "import string\n",
        "import re\n",
        "from nltk.stem import PorterStemmer"
      ]
    },
    {
      "cell_type": "code",
      "source": [
        "nltk.download('punkt')"
      ],
      "metadata": {
        "colab": {
          "base_uri": "https://localhost:8080/"
        },
        "id": "j8M2-7N5eF8H",
        "outputId": "169bb3cb-4d06-432c-c9c8-d0b6e4224883"
      },
      "execution_count": null,
      "outputs": [
        {
          "output_type": "stream",
          "name": "stdout",
          "text": [
            "[nltk_data] Downloading package punkt to /root/nltk_data...\n",
            "[nltk_data]   Package punkt is already up-to-date!\n"
          ]
        },
        {
          "output_type": "execute_result",
          "data": {
            "text/plain": [
              "True"
            ]
          },
          "metadata": {},
          "execution_count": 13
        }
      ]
    },
    {
      "cell_type": "code",
      "source": [
        "nltk.download('stopwords')"
      ],
      "metadata": {
        "colab": {
          "base_uri": "https://localhost:8080/"
        },
        "id": "ASWbeI2keiSY",
        "outputId": "10b5d865-77ae-42b7-ddc2-aa50cd26f797"
      },
      "execution_count": null,
      "outputs": [
        {
          "output_type": "stream",
          "name": "stdout",
          "text": [
            "[nltk_data] Downloading package stopwords to /root/nltk_data...\n",
            "[nltk_data]   Package stopwords is already up-to-date!\n"
          ]
        },
        {
          "output_type": "execute_result",
          "data": {
            "text/plain": [
              "True"
            ]
          },
          "metadata": {},
          "execution_count": 14
        }
      ]
    },
    {
      "cell_type": "markdown",
      "source": [
        "**Load data**"
      ],
      "metadata": {
        "id": "HVddVDZsyrhh"
      }
    },
    {
      "cell_type": "code",
      "source": [
        "from google.colab import drive\n",
        "drive.mount('/content/drive')"
      ],
      "metadata": {
        "colab": {
          "base_uri": "https://localhost:8080/"
        },
        "id": "GsBp0ozQiRyu",
        "outputId": "5ac1aa8d-f9aa-46bd-ff09-b9f173036a7b"
      },
      "execution_count": null,
      "outputs": [
        {
          "output_type": "stream",
          "name": "stdout",
          "text": [
            "Drive already mounted at /content/drive; to attempt to forcibly remount, call drive.mount(\"/content/drive\", force_remount=True).\n"
          ]
        }
      ]
    },
    {
      "cell_type": "code",
      "source": [
        "raw_data =json.load(open(\"/content/drive/MyDrive/IR_Assignments/docs.json\", \"r\"))\n",
        "file_types =json.load(open(\"/content/drive/MyDrive/IR_Assignments/special_docs.json\", \"r\"))"
      ],
      "metadata": {
        "id": "MWt4iqbDzE8Q"
      },
      "execution_count": null,
      "outputs": []
    },
    {
      "cell_type": "markdown",
      "source": [
        "**Preprocessing**"
      ],
      "metadata": {
        "id": "8u3VHTwPy-qF"
      }
    },
    {
      "cell_type": "code",
      "source": [
        "def preprocess(input):\n",
        "    input=input.replace('\\a',' ')\n",
        "    input=input.replace('\\b',' ')\n",
        "    input=input.replace('\\f',' ')\n",
        "    input=input.replace('\\n',' ')    \n",
        "    input=input.replace('\\r',' ')\n",
        "    input=input.replace('\\t',' ')\n",
        "    input=input.replace('\\v',' ')\n",
        "    # convert to lower case\n",
        "    output = input.lower()\n",
        "    # remove punctuations\n",
        "    punctuations=string.punctuation.replace(\"'\",'')\n",
        "    output = \"\".join([char if char not in punctuations else ' ' for char in output])\n",
        "    output = output.replace(\"'\",'')\n",
        "    # tokenize\n",
        "    output = nltk.word_tokenize(output)\n",
        "    # removing words with special characters\n",
        "    output = [word for word in output if re.sub(r'[^\\x20-\\x7e]','',word) == word]\n",
        "    # remove stopwords and numeric tokens\n",
        "    output = [word.strip() for word in output if word not in nltk.corpus.stopwords.words('english') and not word.isnumeric()]\n",
        "    # stemming\n",
        "    # output = [PorterStemmer().stem(word) for word in output]\n",
        "    return output"
      ],
      "metadata": {
        "id": "4EjvHf4EiT2B"
      },
      "execution_count": null,
      "outputs": []
    },
    {
      "cell_type": "code",
      "source": [
        "# preprocessing\n",
        "for doc in raw_data:\n",
        "    raw_data[doc] = preprocess(raw_data[doc])"
      ],
      "metadata": {
        "id": "2QAZ3KQlzY7Y"
      },
      "execution_count": null,
      "outputs": []
    },
    {
      "cell_type": "markdown",
      "source": [
        "**Creating document-token index**"
      ],
      "metadata": {
        "id": "q1eGLVde4cqA"
      }
    },
    {
      "cell_type": "code",
      "source": [
        "# creating document-token set\n",
        "def create_index(data):\n",
        "    index = {}\n",
        "    for doc in data:\n",
        "        index[doc] = set(raw_data[doc])\n",
        "    return index\n",
        "\n",
        "index = create_index(raw_data)"
      ],
      "metadata": {
        "id": "AtrG-i_X4d3k"
      },
      "execution_count": null,
      "outputs": []
    },
    {
      "cell_type": "markdown",
      "source": [
        "# Jaccard"
      ],
      "metadata": {
        "id": "b-5LS_gBJrUF"
      }
    },
    {
      "cell_type": "markdown",
      "source": [
        "**Jaccard Coefficient**"
      ],
      "metadata": {
        "id": "wRRLXhdA6Slm"
      }
    },
    {
      "cell_type": "code",
      "source": [
        "# calculating jaccard coefficient\n",
        "def jaccard(query, doc):\n",
        "    inter = len(query.intersection(doc))\n",
        "    uni = len(query.union(doc))\n",
        "    return inter/uni"
      ],
      "metadata": {
        "id": "xQt1Nano6Zl-"
      },
      "execution_count": null,
      "outputs": []
    },
    {
      "cell_type": "markdown",
      "source": [
        "**Processing the input query and displaying results**"
      ],
      "metadata": {
        "id": "xMTZilzP44BQ"
      }
    },
    {
      "cell_type": "code",
      "source": [
        "# process the input query and operation sequence\n",
        "def process(input):\n",
        "    terms = preprocess(input)\n",
        "    query = set(terms)\n",
        "\n",
        "    best_docs = []\n",
        "    for doc in index:\n",
        "        coeff = jaccard(query, index[doc])\n",
        "        best_docs.append([coeff, doc])\n",
        "    \n",
        "    # finding 5 best documents\n",
        "    best_docs.sort(reverse = True)\n",
        "    return best_docs[:5]"
      ],
      "metadata": {
        "id": "9madKzky43CP"
      },
      "execution_count": null,
      "outputs": []
    },
    {
      "cell_type": "code",
      "source": [
        "# input and output\n",
        "def run():\n",
        "    query = input(\"Input query: \")\n",
        "    result = process(query)\n",
        "    print('Top 5 documents:')\n",
        "    for doc in result:\n",
        "        print(doc[1])\n",
        "    print(result)"
      ],
      "metadata": {
        "id": "62OuM7STwdVZ"
      },
      "execution_count": null,
      "outputs": []
    },
    {
      "cell_type": "code",
      "source": [
        "run()"
      ],
      "metadata": {
        "colab": {
          "base_uri": "https://localhost:8080/"
        },
        "id": "XsavdeYPxvpI",
        "outputId": "6b929919-69ba-4174-b9e0-1e12b73bf1ce"
      },
      "execution_count": null,
      "outputs": [
        {
          "output_type": "stream",
          "name": "stdout",
          "text": [
            "Input query: american dream\n",
            "Top 5 documents:\n",
            "p-law.hum\n",
            "oxymoron.txt\n",
            "psalm_re.aga\n",
            "psalm_nixon\n",
            "psalm.reagan\n",
            "[[0.016129032258064516, 'p-law.hum'], [0.014925373134328358, 'oxymoron.txt'], [0.014084507042253521, 'psalm_re.aga'], [0.014084507042253521, 'psalm_nixon'], [0.014084507042253521, 'psalm.reagan']]\n"
          ]
        }
      ]
    },
    {
      "cell_type": "code",
      "source": [
        "run()"
      ],
      "metadata": {
        "colab": {
          "base_uri": "https://localhost:8080/"
        },
        "id": "Rs5pauMDxxD5",
        "outputId": "9bfbbaff-0cd6-4cae-c52e-d7d196a5b79b"
      },
      "execution_count": null,
      "outputs": [
        {
          "output_type": "stream",
          "name": "stdout",
          "text": [
            "Input query: lion king\n",
            "Top 5 documents:\n",
            "jrrt.riddle\n",
            "puzzles.jok\n",
            "cereal.txt\n",
            "smokers.txt\n",
            "yogisays.txt\n",
            "[[0.012195121951219513, 'jrrt.riddle'], [0.010101010101010102, 'puzzles.jok'], [0.00909090909090909, 'cereal.txt'], [0.007936507936507936, 'smokers.txt'], [0.006289308176100629, 'yogisays.txt']]\n"
          ]
        }
      ]
    }
  ]
}